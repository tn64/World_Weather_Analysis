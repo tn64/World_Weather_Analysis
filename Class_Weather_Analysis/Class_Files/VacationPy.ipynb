{
 "cells": [
  {
   "cell_type": "markdown",
   "id": "ea9c189d",
   "metadata": {},
   "source": [
    "# 6.5.2 Create Heatmaps for Weather Parameters"
   ]
  },
  {
   "cell_type": "code",
   "execution_count": 1,
   "id": "77ed2f79",
   "metadata": {},
   "outputs": [],
   "source": [
    "\n",
    "#Import dependencies\n",
    "import pandas as pd\n",
    "import citipy\n",
    "import gmaps\n",
    "import requests\n",
    "#Import the API Key\n",
    "from config import g_key"
   ]
  },
  {
   "cell_type": "code",
   "execution_count": 2,
   "id": "d0173046",
   "metadata": {},
   "outputs": [
    {
     "data": {
      "text/html": [
       "<div>\n",
       "<style scoped>\n",
       "    .dataframe tbody tr th:only-of-type {\n",
       "        vertical-align: middle;\n",
       "    }\n",
       "\n",
       "    .dataframe tbody tr th {\n",
       "        vertical-align: top;\n",
       "    }\n",
       "\n",
       "    .dataframe thead th {\n",
       "        text-align: right;\n",
       "    }\n",
       "</style>\n",
       "<table border=\"1\" class=\"dataframe\">\n",
       "  <thead>\n",
       "    <tr style=\"text-align: right;\">\n",
       "      <th></th>\n",
       "      <th>City_ID</th>\n",
       "      <th>City</th>\n",
       "      <th>Country</th>\n",
       "      <th>Date</th>\n",
       "      <th>Lat</th>\n",
       "      <th>Lng</th>\n",
       "      <th>Max Temp</th>\n",
       "      <th>Humidity</th>\n",
       "      <th>Cloudiness</th>\n",
       "      <th>Wind Speed</th>\n",
       "    </tr>\n",
       "  </thead>\n",
       "  <tbody>\n",
       "    <tr>\n",
       "      <th>0</th>\n",
       "      <td>0</td>\n",
       "      <td>Klaksvik</td>\n",
       "      <td>FO</td>\n",
       "      <td>2021-04-18 16:50:42</td>\n",
       "      <td>62.2266</td>\n",
       "      <td>-6.5890</td>\n",
       "      <td>44.60</td>\n",
       "      <td>76</td>\n",
       "      <td>75</td>\n",
       "      <td>4.61</td>\n",
       "    </tr>\n",
       "    <tr>\n",
       "      <th>1</th>\n",
       "      <td>1</td>\n",
       "      <td>Butaritari</td>\n",
       "      <td>KI</td>\n",
       "      <td>2021-04-18 16:50:42</td>\n",
       "      <td>3.0707</td>\n",
       "      <td>172.7902</td>\n",
       "      <td>82.51</td>\n",
       "      <td>77</td>\n",
       "      <td>81</td>\n",
       "      <td>12.48</td>\n",
       "    </tr>\n",
       "    <tr>\n",
       "      <th>2</th>\n",
       "      <td>2</td>\n",
       "      <td>Cape Town</td>\n",
       "      <td>ZA</td>\n",
       "      <td>2021-04-18 16:49:04</td>\n",
       "      <td>-33.9258</td>\n",
       "      <td>18.4232</td>\n",
       "      <td>78.80</td>\n",
       "      <td>27</td>\n",
       "      <td>0</td>\n",
       "      <td>10.36</td>\n",
       "    </tr>\n",
       "    <tr>\n",
       "      <th>3</th>\n",
       "      <td>3</td>\n",
       "      <td>Albany</td>\n",
       "      <td>US</td>\n",
       "      <td>2021-04-18 16:49:25</td>\n",
       "      <td>42.6001</td>\n",
       "      <td>-73.9662</td>\n",
       "      <td>55.00</td>\n",
       "      <td>71</td>\n",
       "      <td>75</td>\n",
       "      <td>5.75</td>\n",
       "    </tr>\n",
       "    <tr>\n",
       "      <th>4</th>\n",
       "      <td>4</td>\n",
       "      <td>Bluff</td>\n",
       "      <td>NZ</td>\n",
       "      <td>2021-04-18 16:50:43</td>\n",
       "      <td>-46.6000</td>\n",
       "      <td>168.3333</td>\n",
       "      <td>55.00</td>\n",
       "      <td>83</td>\n",
       "      <td>80</td>\n",
       "      <td>10.00</td>\n",
       "    </tr>\n",
       "  </tbody>\n",
       "</table>\n",
       "</div>"
      ],
      "text/plain": [
       "   City_ID        City Country                 Date      Lat       Lng  \\\n",
       "0        0    Klaksvik      FO  2021-04-18 16:50:42  62.2266   -6.5890   \n",
       "1        1  Butaritari      KI  2021-04-18 16:50:42   3.0707  172.7902   \n",
       "2        2   Cape Town      ZA  2021-04-18 16:49:04 -33.9258   18.4232   \n",
       "3        3      Albany      US  2021-04-18 16:49:25  42.6001  -73.9662   \n",
       "4        4       Bluff      NZ  2021-04-18 16:50:43 -46.6000  168.3333   \n",
       "\n",
       "   Max Temp  Humidity  Cloudiness  Wind Speed  \n",
       "0     44.60        76          75        4.61  \n",
       "1     82.51        77          81       12.48  \n",
       "2     78.80        27           0       10.36  \n",
       "3     55.00        71          75        5.75  \n",
       "4     55.00        83          80       10.00  "
      ]
     },
     "execution_count": 2,
     "metadata": {},
     "output_type": "execute_result"
    }
   ],
   "source": [
    "#Store the CSV file into a DataFrame\n",
    "city_data_df = pd.read_csv('cities.csv')\n",
    "city_data_df.head()"
   ]
  },
  {
   "cell_type": "code",
   "execution_count": 3,
   "id": "c36d38f6",
   "metadata": {},
   "outputs": [
    {
     "data": {
      "text/plain": [
       "City_ID         int64\n",
       "City           object\n",
       "Country        object\n",
       "Date           object\n",
       "Lat           float64\n",
       "Lng           float64\n",
       "Max Temp      float64\n",
       "Humidity        int64\n",
       "Cloudiness      int64\n",
       "Wind Speed    float64\n",
       "dtype: object"
      ]
     },
     "execution_count": 3,
     "metadata": {},
     "output_type": "execute_result"
    }
   ],
   "source": [
    "#Get the data types\n",
    "city_data_df.dtypes"
   ]
  },
  {
   "cell_type": "markdown",
   "id": "f86a4e9d",
   "metadata": {},
   "source": [
    "## Create a Maximum Temperature Heatmap"
   ]
  },
  {
   "cell_type": "code",
   "execution_count": 4,
   "id": "ce0c17f5",
   "metadata": {},
   "outputs": [],
   "source": [
    "#Configure gmaps to use your Google API key\n",
    "gmaps.configure(api_key=g_key)"
   ]
  },
  {
   "cell_type": "code",
   "execution_count": 5,
   "id": "7c78c9a0",
   "metadata": {
    "scrolled": true
   },
   "outputs": [
    {
     "data": {
      "application/vnd.jupyter.widget-view+json": {
       "model_id": "39cc7dfb4c0743b8bd02edbbaaf762f1",
       "version_major": 2,
       "version_minor": 0
      },
      "text/plain": [
       "Figure(layout=FigureLayout(height='420px'))"
      ]
     },
     "metadata": {},
     "output_type": "display_data"
    }
   ],
   "source": [
    "#Heatmap of temperature\n",
    "#Get the latitude and longitude\n",
    "locations = city_data_df[[\"Lat\", 'Lng']]\n",
    "#Get the maximum temperature and drop negative temperatures because 'weights' will not allow negative temps\n",
    "max_temp = city_data_df[\"Max Temp\"]\n",
    "temps = []\n",
    "for temp in max_temp:\n",
    "    temps.append(max(temp, 0))\n",
    "\n",
    "#Assign the figure variable\n",
    "fig = gmaps.figure(center=(30.0, 31.0), zoom_level=1.25)\n",
    "#Assign the heatmap variable\n",
    "heat_layer = gmaps.heatmap_layer(locations, weights=temps, dissipating=False,\n",
    "                                max_intensity = 300, point_radius=4)\n",
    "#Performing list comprehension on the heatmap layer\n",
    "#heat-layer = gmaps.heatmap_layer(locations, weights=[max(temp, 0)\n",
    "#for temp in max_temp])\n",
    "\n",
    "#Add the heatmap layer\n",
    "fig.add_layer(heat_layer)\n",
    "#Call the figure to plot the data\n",
    "fig"
   ]
  },
  {
   "cell_type": "markdown",
   "id": "3fa56cd0",
   "metadata": {},
   "source": [
    "## Create a Percent Humidity Heatmap"
   ]
  },
  {
   "cell_type": "code",
   "execution_count": 6,
   "id": "458e9a57",
   "metadata": {},
   "outputs": [
    {
     "data": {
      "application/vnd.jupyter.widget-view+json": {
       "model_id": "6521ceaf859842eab2c8a9fe118674dc",
       "version_major": 2,
       "version_minor": 0
      },
      "text/plain": [
       "Figure(layout=FigureLayout(height='420px'))"
      ]
     },
     "metadata": {},
     "output_type": "display_data"
    }
   ],
   "source": [
    "#Heatmap of percent humidity\n",
    "locations = city_data_df[['Lat', 'Lng']]\n",
    "humidity = city_data_df[\"Humidity\"]\n",
    "fig = gmaps.figure(center=(30.0, 31.0), zoom_level=1.25)\n",
    "heat_layer = gmaps.heatmap_layer(locations, weights=humidity, dissipating=False, max_intensity=300, point_radius=4)\n",
    "\n",
    "fig.add_layer(heat_layer)\n",
    "#Call the figure to plot the data\n",
    "fig"
   ]
  },
  {
   "cell_type": "code",
   "execution_count": 7,
   "id": "054d94ae",
   "metadata": {},
   "outputs": [
    {
     "data": {
      "application/vnd.jupyter.widget-view+json": {
       "model_id": "05278ea5ebfd40ae9b2346ac1c0e7472",
       "version_major": 2,
       "version_minor": 0
      },
      "text/plain": [
       "Figure(layout=FigureLayout(height='420px'))"
      ]
     },
     "metadata": {},
     "output_type": "display_data"
    }
   ],
   "source": [
    "#Heatmap of cloudiness\n",
    "locations = city_data_df[['Lat', 'Lng']]\n",
    "clouds = city_data_df[\"Cloudiness\"]\n",
    "fig = gmaps.figure(center=(30.0, 31.0), zoom_level=1.25)\n",
    "heat_layer = gmaps.heatmap_layer(locations, weights=clouds, dissipating=False, max_intensity=300, point_radius=4)\n",
    "\n",
    "fig.add_layer(heat_layer)\n",
    "#Call the figure to plot the data\n",
    "fig"
   ]
  },
  {
   "cell_type": "code",
   "execution_count": 8,
   "id": "7a3d6395",
   "metadata": {},
   "outputs": [
    {
     "data": {
      "application/vnd.jupyter.widget-view+json": {
       "model_id": "72df6b46b80c48a88d3b9ec85a7c1b74",
       "version_major": 2,
       "version_minor": 0
      },
      "text/plain": [
       "Figure(layout=FigureLayout(height='420px'))"
      ]
     },
     "metadata": {},
     "output_type": "display_data"
    }
   ],
   "source": [
    "#Heatmap of percent wind speed\n",
    "locations = city_data_df[['Lat', 'Lng']]\n",
    "wind = city_data_df[\"Wind Speed\"]\n",
    "fig = gmaps.figure(center=(30.0, 31.0), zoom_level=1.25)\n",
    "heat_layer = gmaps.heatmap_layer(locations, weights=wind, dissipating=False, max_intensity=300, point_radius=4)\n",
    "\n",
    "fig.add_layer(heat_layer)\n",
    "#Call the figure to plot the data\n",
    "fig"
   ]
  },
  {
   "cell_type": "markdown",
   "id": "0f7e1e9f",
   "metadata": {},
   "source": [
    "# Get the Vacation Criteria"
   ]
  },
  {
   "cell_type": "code",
   "execution_count": 12,
   "id": "5a3a6e69",
   "metadata": {},
   "outputs": [
    {
     "name": "stdout",
     "output_type": "stream",
     "text": [
      "What is the minimum temperature you would like for your trip? 75\n",
      "What is the maximum temperature you would like for your trip?90\n"
     ]
    }
   ],
   "source": [
    "#Ask the customer to add a minimum and maximum temperature value\n",
    "min_temp = float(input('What is the minimum temperature you would like for your trip? '))\n",
    "max_temp = float(input('What is the maximum temperature you would like for your trip?'))"
   ]
  },
  {
   "cell_type": "code",
   "execution_count": 13,
   "id": "45d059ac",
   "metadata": {},
   "outputs": [
    {
     "data": {
      "text/html": [
       "<div>\n",
       "<style scoped>\n",
       "    .dataframe tbody tr th:only-of-type {\n",
       "        vertical-align: middle;\n",
       "    }\n",
       "\n",
       "    .dataframe tbody tr th {\n",
       "        vertical-align: top;\n",
       "    }\n",
       "\n",
       "    .dataframe thead th {\n",
       "        text-align: right;\n",
       "    }\n",
       "</style>\n",
       "<table border=\"1\" class=\"dataframe\">\n",
       "  <thead>\n",
       "    <tr style=\"text-align: right;\">\n",
       "      <th></th>\n",
       "      <th>City_ID</th>\n",
       "      <th>City</th>\n",
       "      <th>Country</th>\n",
       "      <th>Date</th>\n",
       "      <th>Lat</th>\n",
       "      <th>Lng</th>\n",
       "      <th>Max Temp</th>\n",
       "      <th>Humidity</th>\n",
       "      <th>Cloudiness</th>\n",
       "      <th>Wind Speed</th>\n",
       "    </tr>\n",
       "  </thead>\n",
       "  <tbody>\n",
       "    <tr>\n",
       "      <th>1</th>\n",
       "      <td>1</td>\n",
       "      <td>Butaritari</td>\n",
       "      <td>KI</td>\n",
       "      <td>2021-04-18 16:50:42</td>\n",
       "      <td>3.0707</td>\n",
       "      <td>172.7902</td>\n",
       "      <td>82.51</td>\n",
       "      <td>77</td>\n",
       "      <td>81</td>\n",
       "      <td>12.48</td>\n",
       "    </tr>\n",
       "    <tr>\n",
       "      <th>2</th>\n",
       "      <td>2</td>\n",
       "      <td>Cape Town</td>\n",
       "      <td>ZA</td>\n",
       "      <td>2021-04-18 16:49:04</td>\n",
       "      <td>-33.9258</td>\n",
       "      <td>18.4232</td>\n",
       "      <td>78.80</td>\n",
       "      <td>27</td>\n",
       "      <td>0</td>\n",
       "      <td>10.36</td>\n",
       "    </tr>\n",
       "    <tr>\n",
       "      <th>7</th>\n",
       "      <td>7</td>\n",
       "      <td>Rikitea</td>\n",
       "      <td>PF</td>\n",
       "      <td>2021-04-18 16:50:45</td>\n",
       "      <td>-23.1203</td>\n",
       "      <td>-134.9692</td>\n",
       "      <td>76.96</td>\n",
       "      <td>74</td>\n",
       "      <td>2</td>\n",
       "      <td>7.18</td>\n",
       "    </tr>\n",
       "    <tr>\n",
       "      <th>14</th>\n",
       "      <td>14</td>\n",
       "      <td>Becerril</td>\n",
       "      <td>CO</td>\n",
       "      <td>2021-04-18 16:50:47</td>\n",
       "      <td>9.7041</td>\n",
       "      <td>-73.2793</td>\n",
       "      <td>88.11</td>\n",
       "      <td>61</td>\n",
       "      <td>100</td>\n",
       "      <td>6.35</td>\n",
       "    </tr>\n",
       "    <tr>\n",
       "      <th>17</th>\n",
       "      <td>17</td>\n",
       "      <td>Kalmunai</td>\n",
       "      <td>LK</td>\n",
       "      <td>2021-04-18 16:50:49</td>\n",
       "      <td>7.4167</td>\n",
       "      <td>81.8167</td>\n",
       "      <td>81.05</td>\n",
       "      <td>78</td>\n",
       "      <td>100</td>\n",
       "      <td>6.26</td>\n",
       "    </tr>\n",
       "    <tr>\n",
       "      <th>22</th>\n",
       "      <td>22</td>\n",
       "      <td>Riachao Das Neves</td>\n",
       "      <td>BR</td>\n",
       "      <td>2021-04-18 16:50:51</td>\n",
       "      <td>-11.7461</td>\n",
       "      <td>-44.9100</td>\n",
       "      <td>83.68</td>\n",
       "      <td>51</td>\n",
       "      <td>100</td>\n",
       "      <td>6.49</td>\n",
       "    </tr>\n",
       "    <tr>\n",
       "      <th>29</th>\n",
       "      <td>29</td>\n",
       "      <td>Sabya</td>\n",
       "      <td>SA</td>\n",
       "      <td>2021-04-18 16:50:53</td>\n",
       "      <td>17.1495</td>\n",
       "      <td>42.6254</td>\n",
       "      <td>87.80</td>\n",
       "      <td>62</td>\n",
       "      <td>0</td>\n",
       "      <td>8.05</td>\n",
       "    </tr>\n",
       "    <tr>\n",
       "      <th>39</th>\n",
       "      <td>39</td>\n",
       "      <td>Carlsbad</td>\n",
       "      <td>US</td>\n",
       "      <td>2021-04-18 16:46:10</td>\n",
       "      <td>33.1581</td>\n",
       "      <td>-117.3506</td>\n",
       "      <td>77.00</td>\n",
       "      <td>77</td>\n",
       "      <td>20</td>\n",
       "      <td>7.76</td>\n",
       "    </tr>\n",
       "    <tr>\n",
       "      <th>40</th>\n",
       "      <td>40</td>\n",
       "      <td>Cabo San Lucas</td>\n",
       "      <td>MX</td>\n",
       "      <td>2021-04-18 16:50:58</td>\n",
       "      <td>22.8909</td>\n",
       "      <td>-109.9124</td>\n",
       "      <td>79.00</td>\n",
       "      <td>46</td>\n",
       "      <td>1</td>\n",
       "      <td>3.44</td>\n",
       "    </tr>\n",
       "    <tr>\n",
       "      <th>41</th>\n",
       "      <td>41</td>\n",
       "      <td>Mahebourg</td>\n",
       "      <td>MU</td>\n",
       "      <td>2021-04-18 16:50:58</td>\n",
       "      <td>-20.4081</td>\n",
       "      <td>57.7000</td>\n",
       "      <td>77.00</td>\n",
       "      <td>94</td>\n",
       "      <td>75</td>\n",
       "      <td>16.11</td>\n",
       "    </tr>\n",
       "  </tbody>\n",
       "</table>\n",
       "</div>"
      ],
      "text/plain": [
       "    City_ID               City Country                 Date      Lat  \\\n",
       "1         1         Butaritari      KI  2021-04-18 16:50:42   3.0707   \n",
       "2         2          Cape Town      ZA  2021-04-18 16:49:04 -33.9258   \n",
       "7         7            Rikitea      PF  2021-04-18 16:50:45 -23.1203   \n",
       "14       14           Becerril      CO  2021-04-18 16:50:47   9.7041   \n",
       "17       17           Kalmunai      LK  2021-04-18 16:50:49   7.4167   \n",
       "22       22  Riachao Das Neves      BR  2021-04-18 16:50:51 -11.7461   \n",
       "29       29              Sabya      SA  2021-04-18 16:50:53  17.1495   \n",
       "39       39           Carlsbad      US  2021-04-18 16:46:10  33.1581   \n",
       "40       40     Cabo San Lucas      MX  2021-04-18 16:50:58  22.8909   \n",
       "41       41          Mahebourg      MU  2021-04-18 16:50:58 -20.4081   \n",
       "\n",
       "         Lng  Max Temp  Humidity  Cloudiness  Wind Speed  \n",
       "1   172.7902     82.51        77          81       12.48  \n",
       "2    18.4232     78.80        27           0       10.36  \n",
       "7  -134.9692     76.96        74           2        7.18  \n",
       "14  -73.2793     88.11        61         100        6.35  \n",
       "17   81.8167     81.05        78         100        6.26  \n",
       "22  -44.9100     83.68        51         100        6.49  \n",
       "29   42.6254     87.80        62           0        8.05  \n",
       "39 -117.3506     77.00        77          20        7.76  \n",
       "40 -109.9124     79.00        46           1        3.44  \n",
       "41   57.7000     77.00        94          75       16.11  "
      ]
     },
     "execution_count": 13,
     "metadata": {},
     "output_type": "execute_result"
    }
   ],
   "source": [
    "#Filter the dataset to find the cities that fit the criteria\n",
    "preferred_cities_df = city_data_df.loc[(city_data_df[\"Max Temp\"] <= max_temp) & \\\n",
    "                                      (city_data_df[\"Max Temp\"] >= min_temp)]\n",
    "preferred_cities_df.head(10)"
   ]
  },
  {
   "cell_type": "code",
   "execution_count": 14,
   "id": "56d3f6c5",
   "metadata": {},
   "outputs": [
    {
     "data": {
      "text/plain": [
       "City_ID       171\n",
       "City          171\n",
       "Country       170\n",
       "Date          171\n",
       "Lat           171\n",
       "Lng           171\n",
       "Max Temp      171\n",
       "Humidity      171\n",
       "Cloudiness    171\n",
       "Wind Speed    171\n",
       "dtype: int64"
      ]
     },
     "execution_count": 14,
     "metadata": {},
     "output_type": "execute_result"
    }
   ],
   "source": [
    "preferred_cities_df.count()"
   ]
  },
  {
   "cell_type": "markdown",
   "id": "2cb412b1",
   "metadata": {},
   "source": [
    "# Map Vacation Criteria"
   ]
  },
  {
   "cell_type": "markdown",
   "id": "416aebea",
   "metadata": {},
   "source": [
    "## Get Travel Destinations"
   ]
  },
  {
   "cell_type": "markdown",
   "id": "92d10d85",
   "metadata": {},
   "source": [
    "Don't add the hotel information to the preferred_cities_df DataFrame because this DataFrame is our filtered DataFrame, and the customer will always filter it for each trip. We'll need to create a new DataFrame specifically for the data needed to create a heatmap and pop-up markers."
   ]
  },
  {
   "cell_type": "code",
   "execution_count": 15,
   "id": "88904ef3",
   "metadata": {},
   "outputs": [
    {
     "data": {
      "text/html": [
       "<div>\n",
       "<style scoped>\n",
       "    .dataframe tbody tr th:only-of-type {\n",
       "        vertical-align: middle;\n",
       "    }\n",
       "\n",
       "    .dataframe tbody tr th {\n",
       "        vertical-align: top;\n",
       "    }\n",
       "\n",
       "    .dataframe thead th {\n",
       "        text-align: right;\n",
       "    }\n",
       "</style>\n",
       "<table border=\"1\" class=\"dataframe\">\n",
       "  <thead>\n",
       "    <tr style=\"text-align: right;\">\n",
       "      <th></th>\n",
       "      <th>City</th>\n",
       "      <th>Country</th>\n",
       "      <th>Max Temp</th>\n",
       "      <th>Lat</th>\n",
       "      <th>Lng</th>\n",
       "      <th>Hotel Name</th>\n",
       "    </tr>\n",
       "  </thead>\n",
       "  <tbody>\n",
       "    <tr>\n",
       "      <th>1</th>\n",
       "      <td>Butaritari</td>\n",
       "      <td>KI</td>\n",
       "      <td>82.51</td>\n",
       "      <td>3.0707</td>\n",
       "      <td>172.7902</td>\n",
       "      <td></td>\n",
       "    </tr>\n",
       "    <tr>\n",
       "      <th>2</th>\n",
       "      <td>Cape Town</td>\n",
       "      <td>ZA</td>\n",
       "      <td>78.80</td>\n",
       "      <td>-33.9258</td>\n",
       "      <td>18.4232</td>\n",
       "      <td></td>\n",
       "    </tr>\n",
       "    <tr>\n",
       "      <th>7</th>\n",
       "      <td>Rikitea</td>\n",
       "      <td>PF</td>\n",
       "      <td>76.96</td>\n",
       "      <td>-23.1203</td>\n",
       "      <td>-134.9692</td>\n",
       "      <td></td>\n",
       "    </tr>\n",
       "    <tr>\n",
       "      <th>14</th>\n",
       "      <td>Becerril</td>\n",
       "      <td>CO</td>\n",
       "      <td>88.11</td>\n",
       "      <td>9.7041</td>\n",
       "      <td>-73.2793</td>\n",
       "      <td></td>\n",
       "    </tr>\n",
       "    <tr>\n",
       "      <th>17</th>\n",
       "      <td>Kalmunai</td>\n",
       "      <td>LK</td>\n",
       "      <td>81.05</td>\n",
       "      <td>7.4167</td>\n",
       "      <td>81.8167</td>\n",
       "      <td></td>\n",
       "    </tr>\n",
       "    <tr>\n",
       "      <th>22</th>\n",
       "      <td>Riachao Das Neves</td>\n",
       "      <td>BR</td>\n",
       "      <td>83.68</td>\n",
       "      <td>-11.7461</td>\n",
       "      <td>-44.9100</td>\n",
       "      <td></td>\n",
       "    </tr>\n",
       "    <tr>\n",
       "      <th>29</th>\n",
       "      <td>Sabya</td>\n",
       "      <td>SA</td>\n",
       "      <td>87.80</td>\n",
       "      <td>17.1495</td>\n",
       "      <td>42.6254</td>\n",
       "      <td></td>\n",
       "    </tr>\n",
       "    <tr>\n",
       "      <th>39</th>\n",
       "      <td>Carlsbad</td>\n",
       "      <td>US</td>\n",
       "      <td>77.00</td>\n",
       "      <td>33.1581</td>\n",
       "      <td>-117.3506</td>\n",
       "      <td></td>\n",
       "    </tr>\n",
       "    <tr>\n",
       "      <th>40</th>\n",
       "      <td>Cabo San Lucas</td>\n",
       "      <td>MX</td>\n",
       "      <td>79.00</td>\n",
       "      <td>22.8909</td>\n",
       "      <td>-109.9124</td>\n",
       "      <td></td>\n",
       "    </tr>\n",
       "    <tr>\n",
       "      <th>41</th>\n",
       "      <td>Mahebourg</td>\n",
       "      <td>MU</td>\n",
       "      <td>77.00</td>\n",
       "      <td>-20.4081</td>\n",
       "      <td>57.7000</td>\n",
       "      <td></td>\n",
       "    </tr>\n",
       "  </tbody>\n",
       "</table>\n",
       "</div>"
      ],
      "text/plain": [
       "                 City Country  Max Temp      Lat       Lng Hotel Name\n",
       "1          Butaritari      KI     82.51   3.0707  172.7902           \n",
       "2           Cape Town      ZA     78.80 -33.9258   18.4232           \n",
       "7             Rikitea      PF     76.96 -23.1203 -134.9692           \n",
       "14           Becerril      CO     88.11   9.7041  -73.2793           \n",
       "17           Kalmunai      LK     81.05   7.4167   81.8167           \n",
       "22  Riachao Das Neves      BR     83.68 -11.7461  -44.9100           \n",
       "29              Sabya      SA     87.80  17.1495   42.6254           \n",
       "39           Carlsbad      US     77.00  33.1581 -117.3506           \n",
       "40     Cabo San Lucas      MX     79.00  22.8909 -109.9124           \n",
       "41          Mahebourg      MU     77.00 -20.4081   57.7000           "
      ]
     },
     "execution_count": 15,
     "metadata": {},
     "output_type": "execute_result"
    }
   ],
   "source": [
    "#Create DataFrame called hotel_df to store hotel names along with city, country, max temp, and coordinates.\n",
    "hotel_df = preferred_cities_df[['City', 'Country',  'Max Temp', \"Lat\",  \"Lng\", ]].copy()\n",
    "hotel_df[\"Hotel Name\"] = ''\n",
    "hotel_df.head(10)"
   ]
  },
  {
   "cell_type": "markdown",
   "id": "576eb836",
   "metadata": {},
   "source": [
    "## Retrieve Hotels from a Nearby Search"
   ]
  },
  {
   "cell_type": "markdown",
   "id": "2ef29cbc",
   "metadata": {},
   "source": [
    "Review the Nearby Search Results on the Google Place Search page here: https://developers.google.com/maps/documentation/places/web-service/search#PlaceSearchRequests%0D%0A"
   ]
  },
  {
   "cell_type": "code",
   "execution_count": 16,
   "id": "13b1ab27",
   "metadata": {},
   "outputs": [],
   "source": [
    "#Dependencies and Setup\n",
    "import requests\n",
    "import gmaps\n",
    "\n",
    "#Import API key\n",
    "from config import g_key"
   ]
  },
  {
   "cell_type": "code",
   "execution_count": 18,
   "id": "81abb26c",
   "metadata": {},
   "outputs": [
    {
     "name": "stdout",
     "output_type": "stream",
     "text": [
      "Hotel not found... skipping.\n",
      "Hotel not found... skipping.\n",
      "Hotel not found... skipping.\n",
      "Hotel not found... skipping.\n"
     ]
    },
    {
     "data": {
      "text/html": [
       "<div>\n",
       "<style scoped>\n",
       "    .dataframe tbody tr th:only-of-type {\n",
       "        vertical-align: middle;\n",
       "    }\n",
       "\n",
       "    .dataframe tbody tr th {\n",
       "        vertical-align: top;\n",
       "    }\n",
       "\n",
       "    .dataframe thead th {\n",
       "        text-align: right;\n",
       "    }\n",
       "</style>\n",
       "<table border=\"1\" class=\"dataframe\">\n",
       "  <thead>\n",
       "    <tr style=\"text-align: right;\">\n",
       "      <th></th>\n",
       "      <th>City</th>\n",
       "      <th>Country</th>\n",
       "      <th>Max Temp</th>\n",
       "      <th>Lat</th>\n",
       "      <th>Lng</th>\n",
       "      <th>Hotel Name</th>\n",
       "    </tr>\n",
       "  </thead>\n",
       "  <tbody>\n",
       "    <tr>\n",
       "      <th>1</th>\n",
       "      <td>Butaritari</td>\n",
       "      <td>KI</td>\n",
       "      <td>82.51</td>\n",
       "      <td>3.0707</td>\n",
       "      <td>172.7902</td>\n",
       "      <td>Isles Sunset Lodge</td>\n",
       "    </tr>\n",
       "    <tr>\n",
       "      <th>2</th>\n",
       "      <td>Cape Town</td>\n",
       "      <td>ZA</td>\n",
       "      <td>78.80</td>\n",
       "      <td>-33.9258</td>\n",
       "      <td>18.4232</td>\n",
       "      <td>Southern Sun Waterfront Cape Town</td>\n",
       "    </tr>\n",
       "    <tr>\n",
       "      <th>7</th>\n",
       "      <td>Rikitea</td>\n",
       "      <td>PF</td>\n",
       "      <td>76.96</td>\n",
       "      <td>-23.1203</td>\n",
       "      <td>-134.9692</td>\n",
       "      <td>Pension Maro'i</td>\n",
       "    </tr>\n",
       "    <tr>\n",
       "      <th>14</th>\n",
       "      <td>Becerril</td>\n",
       "      <td>CO</td>\n",
       "      <td>88.11</td>\n",
       "      <td>9.7041</td>\n",
       "      <td>-73.2793</td>\n",
       "      <td>Barrio El Carmen</td>\n",
       "    </tr>\n",
       "    <tr>\n",
       "      <th>17</th>\n",
       "      <td>Kalmunai</td>\n",
       "      <td>LK</td>\n",
       "      <td>81.05</td>\n",
       "      <td>7.4167</td>\n",
       "      <td>81.8167</td>\n",
       "      <td>VS Villa</td>\n",
       "    </tr>\n",
       "    <tr>\n",
       "      <th>22</th>\n",
       "      <td>Riachao Das Neves</td>\n",
       "      <td>BR</td>\n",
       "      <td>83.68</td>\n",
       "      <td>-11.7461</td>\n",
       "      <td>-44.9100</td>\n",
       "      <td>Casa Costa</td>\n",
       "    </tr>\n",
       "    <tr>\n",
       "      <th>29</th>\n",
       "      <td>Sabya</td>\n",
       "      <td>SA</td>\n",
       "      <td>87.80</td>\n",
       "      <td>17.1495</td>\n",
       "      <td>42.6254</td>\n",
       "      <td>Aseel Hotel Apartment</td>\n",
       "    </tr>\n",
       "    <tr>\n",
       "      <th>39</th>\n",
       "      <td>Carlsbad</td>\n",
       "      <td>US</td>\n",
       "      <td>77.00</td>\n",
       "      <td>33.1581</td>\n",
       "      <td>-117.3506</td>\n",
       "      <td>Carlsbad Inn Beach Resort</td>\n",
       "    </tr>\n",
       "    <tr>\n",
       "      <th>40</th>\n",
       "      <td>Cabo San Lucas</td>\n",
       "      <td>MX</td>\n",
       "      <td>79.00</td>\n",
       "      <td>22.8909</td>\n",
       "      <td>-109.9124</td>\n",
       "      <td>Hotel Tesoro Los Cabos</td>\n",
       "    </tr>\n",
       "    <tr>\n",
       "      <th>41</th>\n",
       "      <td>Mahebourg</td>\n",
       "      <td>MU</td>\n",
       "      <td>77.00</td>\n",
       "      <td>-20.4081</td>\n",
       "      <td>57.7000</td>\n",
       "      <td>Shandrani Beachcomber Resort &amp; Spa</td>\n",
       "    </tr>\n",
       "  </tbody>\n",
       "</table>\n",
       "</div>"
      ],
      "text/plain": [
       "                 City Country  Max Temp      Lat       Lng  \\\n",
       "1          Butaritari      KI     82.51   3.0707  172.7902   \n",
       "2           Cape Town      ZA     78.80 -33.9258   18.4232   \n",
       "7             Rikitea      PF     76.96 -23.1203 -134.9692   \n",
       "14           Becerril      CO     88.11   9.7041  -73.2793   \n",
       "17           Kalmunai      LK     81.05   7.4167   81.8167   \n",
       "22  Riachao Das Neves      BR     83.68 -11.7461  -44.9100   \n",
       "29              Sabya      SA     87.80  17.1495   42.6254   \n",
       "39           Carlsbad      US     77.00  33.1581 -117.3506   \n",
       "40     Cabo San Lucas      MX     79.00  22.8909 -109.9124   \n",
       "41          Mahebourg      MU     77.00 -20.4081   57.7000   \n",
       "\n",
       "                            Hotel Name  \n",
       "1                   Isles Sunset Lodge  \n",
       "2    Southern Sun Waterfront Cape Town  \n",
       "7                       Pension Maro'i  \n",
       "14                    Barrio El Carmen  \n",
       "17                            VS Villa  \n",
       "22                          Casa Costa  \n",
       "29               Aseel Hotel Apartment  \n",
       "39           Carlsbad Inn Beach Resort  \n",
       "40              Hotel Tesoro Los Cabos  \n",
       "41  Shandrani Beachcomber Resort & Spa  "
      ]
     },
     "execution_count": 18,
     "metadata": {},
     "output_type": "execute_result"
    }
   ],
   "source": [
    "#Set paramaters to search for a hotel in Paris\n",
    "params = {\n",
    "    'radius': 5000,\n",
    "    'type': 'lodging',\n",
    "    'key': g_key,\n",
    "    'location': '48.8566, 2.3522'}\n",
    "#Iterate through the DataFrame\n",
    "for index, row in hotel_df.iterrows():\n",
    "    #Get the latitude and longitude\n",
    "    lat = row[\"Lat\"]\n",
    "    lng = row[\"Lng\"]\n",
    "    \n",
    "    #Add the latitude and longitude to location key for the params dictionary\n",
    "    params['location'] = f'{lat}, {lng}'\n",
    "    \n",
    "    #Use the search term: 'lodging' and our lat and lng\n",
    "    #Use base URL to search for hotels in Paris\n",
    "    base_url = \"https://maps.googleapis.com/maps/api/place/nearbysearch/json\"\n",
    "    #Make request and get the JSON data from the search\n",
    "    hotels = requests.get(base_url, params=params).json()\n",
    "    #Grab the first hotel from the results and store the name\n",
    "    try:\n",
    "        hotel_df.loc[index, 'Hotel Name'] = hotels['results'][0]['name']\n",
    "    except (IndexError):\n",
    "        print('Hotel not found... skipping.')\n",
    "\n",
    "hotel_df.head(10)"
   ]
  },
  {
   "cell_type": "markdown",
   "id": "5042da41",
   "metadata": {},
   "source": [
    "## Create a Maximum Temperature Heatmap from a Hotel DataFrame"
   ]
  },
  {
   "cell_type": "code",
   "execution_count": 19,
   "id": "61add155",
   "metadata": {},
   "outputs": [
    {
     "data": {
      "application/vnd.jupyter.widget-view+json": {
       "model_id": "c8555b19caf148b5b7e7a0c694c4acf7",
       "version_major": 2,
       "version_minor": 0
      },
      "text/plain": [
       "Figure(layout=FigureLayout(height='420px'))"
      ]
     },
     "metadata": {},
     "output_type": "display_data"
    }
   ],
   "source": [
    "# Add a heatmap of temperature for the vacation spots and marker for each city.\n",
    "locations = hotel_df[[\"Lat\", \"Lng\"]]\n",
    "max_temp = hotel_df[\"Max Temp\"]\n",
    "fig = gmaps.figure(center=(30.0, 31.0), zoom_level=1.5)\n",
    "heat_layer = gmaps.heatmap_layer(locations, weights=max_temp,\n",
    "             dissipating=False, max_intensity=300, point_radius=4)\n",
    "marker_layer = gmaps.marker_layer(locations)\n",
    "fig.add_layer(heat_layer)\n",
    "fig.add_layer(marker_layer)\n",
    "# Call the figure to plot the data.\n",
    "fig\n"
   ]
  },
  {
   "cell_type": "code",
   "execution_count": 20,
   "id": "30b6c3cd",
   "metadata": {},
   "outputs": [],
   "source": [
    "info_box_template = \"\"\"\n",
    "<dl>\n",
    "<dt>Hotel Name</dt><dd>{Hotel Name}</dd>\n",
    "<dt>City</dt><dd>{City}</dd>\n",
    "<dt>Country</dt><dd>{Country}</dd>\n",
    "<dt>Max Temp</dt><dd>{Max Temp} &deg;F</dd>\n",
    "</dl>\n",
    "\"\"\""
   ]
  },
  {
   "cell_type": "code",
   "execution_count": 21,
   "id": "f749466f",
   "metadata": {},
   "outputs": [],
   "source": [
    "#Store the DataFrame Row\n",
    "hotel_info = [info_box_template.format(**row) for index, row in hotel_df.iterrows()]"
   ]
  },
  {
   "cell_type": "code",
   "execution_count": 22,
   "id": "3b48e08e",
   "metadata": {
    "scrolled": true
   },
   "outputs": [
    {
     "data": {
      "application/vnd.jupyter.widget-view+json": {
       "model_id": "f3eded868ed54f039709969d290f0609",
       "version_major": 2,
       "version_minor": 0
      },
      "text/plain": [
       "Figure(layout=FigureLayout(height='420px'))"
      ]
     },
     "metadata": {},
     "output_type": "display_data"
    }
   ],
   "source": [
    "#Add a heatmap of temperature for the vacation spots and a pop-up marker for each city\n",
    "locations = hotel_df[['Lat', 'Lng']]\n",
    "max_temp = hotel_df['Max Temp']\n",
    "fig = gmaps.figure(center=(30.0, 31.0), zoom_level=1.5)\n",
    "heat_layer = gmaps.heatmap_layer(locations, weights=max_temp, dissipating=False,\n",
    "                                max_intensity=300, point_radius=4)\n",
    "marker_layer = gmaps.marker_layer(locations, info_box_content=hotel_info)\n",
    "fig.add_layer(heat_layer)\n",
    "fig.add_layer(marker_layer)\n",
    "\n",
    "#Call the figure to plot the data\n",
    "fig"
   ]
  },
  {
   "cell_type": "code",
   "execution_count": null,
   "id": "56ee355e",
   "metadata": {},
   "outputs": [],
   "source": []
  },
  {
   "cell_type": "code",
   "execution_count": null,
   "id": "d6bda25f",
   "metadata": {},
   "outputs": [],
   "source": []
  }
 ],
 "metadata": {
  "kernelspec": {
   "display_name": "PythonData",
   "language": "python",
   "name": "pythondata"
  },
  "language_info": {
   "codemirror_mode": {
    "name": "ipython",
    "version": 3
   },
   "file_extension": ".py",
   "mimetype": "text/x-python",
   "name": "python",
   "nbconvert_exporter": "python",
   "pygments_lexer": "ipython3",
   "version": "3.8.5"
  }
 },
 "nbformat": 4,
 "nbformat_minor": 5
}
