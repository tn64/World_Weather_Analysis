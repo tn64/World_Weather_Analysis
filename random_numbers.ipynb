{
 "cells": [
  {
   "cell_type": "code",
   "execution_count": 1,
   "metadata": {},
   "outputs": [],
   "source": [
    "#Import random module\n",
    "import random"
   ]
  },
  {
   "cell_type": "code",
   "execution_count": 20,
   "metadata": {},
   "outputs": [
    {
     "data": {
      "text/plain": [
       "32"
      ]
     },
     "execution_count": 20,
     "metadata": {},
     "output_type": "execute_result"
    }
   ],
   "source": [
    "random.randint(-90,90)"
   ]
  },
  {
   "cell_type": "code",
   "execution_count": 4,
   "metadata": {},
   "outputs": [
    {
     "data": {
      "text/plain": [
       "0.07560392050324771"
      ]
     },
     "execution_count": 4,
     "metadata": {},
     "output_type": "execute_result"
    }
   ],
   "source": [
    "random.random()"
   ]
  },
  {
   "cell_type": "code",
   "execution_count": 11,
   "metadata": {},
   "outputs": [
    {
     "data": {
      "text/plain": [
       "-9"
      ]
     },
     "execution_count": 11,
     "metadata": {},
     "output_type": "execute_result"
    }
   ],
   "source": [
    "#.randrange give the OPTION of adding a step parameter other than 1, which is the default\n",
    "random.randrange(-90, 90, step=3)"
   ]
  },
  {
   "cell_type": "code",
   "execution_count": 12,
   "metadata": {},
   "outputs": [
    {
     "data": {
      "text/plain": [
       "-8.020833388182112"
      ]
     },
     "execution_count": 12,
     "metadata": {},
     "output_type": "execute_result"
    }
   ],
   "source": [
    "#.uniform function generates a floating-point decimal \n",
    "random.uniform(-90,90)"
   ]
  },
  {
   "cell_type": "code",
   "execution_count": 14,
   "metadata": {},
   "outputs": [],
   "source": [
    "#Import the NumPy module -- the NumPy module is a numerical mathematics library that can \n",
    "#be used to make arrays or matrices of numbers.\n",
    "import numpy as np"
   ]
  },
  {
   "cell_type": "code",
   "execution_count": 15,
   "metadata": {},
   "outputs": [
    {
     "data": {
      "text/plain": [
       "72.15023238934228"
      ]
     },
     "execution_count": 15,
     "metadata": {},
     "output_type": "execute_result"
    }
   ],
   "source": [
    "np.random.uniform(-90.000, 90.000)"
   ]
  },
  {
   "cell_type": "code",
   "execution_count": 17,
   "metadata": {},
   "outputs": [
    {
     "data": {
      "text/plain": [
       "array([ 45.869765  , -85.23022018,  69.34323918,  13.51216677,\n",
       "        73.28804976,  41.0336408 ,  53.25857382,  53.62959557,\n",
       "       -81.12929756, -40.43670252,  -3.67019772, -52.75960437,\n",
       "        36.16319382, -12.8161382 ,  18.21169413, -60.39454005,\n",
       "       -21.62963451,  39.17797778, -65.55087358, -28.15598223,\n",
       "        33.26952974,  40.40023229, -31.92447345,  83.47731529,\n",
       "       -73.53822901,  76.36038449,  13.57824884,  67.92465393,\n",
       "        34.15488913, -55.0408465 ,  19.21613279, -76.62238092,\n",
       "        17.6582478 , -34.37057901, -49.10260744, -88.09682695,\n",
       "        10.73970219, -35.43126684, -56.68144511,  44.78978901,\n",
       "       -72.56404027, -85.198324  ,  88.15308923,  75.07484366,\n",
       "       -50.24885006, -12.47738473, -34.49510867,   8.8271912 ,\n",
       "       -40.69708497, -50.50219692])"
      ]
     },
     "execution_count": 17,
     "metadata": {},
     "output_type": "execute_result"
    }
   ],
   "source": [
    "#you can add a size parameter\n",
    "np.random.uniform(-90.000, 90.000, size=50)"
   ]
  },
  {
   "cell_type": "code",
   "execution_count": 21,
   "metadata": {},
   "outputs": [
    {
     "data": {
      "text/plain": [
       "array([-21.60351699,   0.24298714,  73.40723903, -31.95891271,\n",
       "        82.14955434,  20.49237064, -20.250709  , -16.69923035,\n",
       "       -34.66529332,  49.66209602,   6.2787656 ,  -4.15600976,\n",
       "       -17.96805742,  51.24818322,  34.87718502,  69.98471991,\n",
       "       -33.39835365, -67.3021206 ,  52.38515473, -81.01409243,\n",
       "         0.7173291 ,   6.20631154,  37.47930141, -47.38176875,\n",
       "        21.31526679,  -4.92502024,  10.85928621, -63.57336504,\n",
       "       -57.56516307, -36.89241423,   1.12371299, -12.60622925,\n",
       "        79.78433061, -30.67886731,  10.18387591, -20.53733501,\n",
       "       -64.80489851, -27.79733413, -41.21126881, -87.80669914,\n",
       "        28.70752416, -25.43938019,  78.83655927,  46.19638388,\n",
       "       -77.01230143,  67.01462943, -32.47028429, -73.05261636,\n",
       "       -31.38518676,  52.17999257])"
      ]
     },
     "execution_count": 21,
     "metadata": {},
     "output_type": "execute_result"
    }
   ],
   "source": [
    "#Can also be written this way\n",
    "np.random.uniform(low=-90, high=90, size=50)"
   ]
  },
  {
   "cell_type": "code",
   "execution_count": null,
   "metadata": {},
   "outputs": [],
   "source": [
    "#import timeit\n",
    "import timeit\n"
   ]
  },
  {
   "cell_type": "code",
   "execution_count": 22,
   "metadata": {},
   "outputs": [
    {
     "name": "stdout",
     "output_type": "stream",
     "text": [
      "21 µs ± 581 ns per loop (mean ± std. dev. of 7 runs, 10000 loops each)\n"
     ]
    }
   ],
   "source": [
    "#add %timeit magic command before code\n",
    "%timeit np.random.uniform(-90.000, 90.000, size=1500)"
   ]
  },
  {
   "cell_type": "code",
   "execution_count": 23,
   "metadata": {},
   "outputs": [
    {
     "name": "stdout",
     "output_type": "stream",
     "text": [
      "1.97 ms ± 83.6 µs per loop (mean ± std. dev. of 7 runs, 100 loops each)\n"
     ]
    }
   ],
   "source": [
    "#The same thing done with a while loop\n",
    "def latitudes(size):\n",
    "    latitudes = []\n",
    "    x = 0\n",
    "    while x < (size):\n",
    "        random_lat = random.randint(-90, 90) + random.random()\n",
    "        latitudes.append(random_lat)\n",
    "        x += 1\n",
    "    return latitudes\n",
    "# Call the function with 1500.\n",
    "%timeit latitudes(1500)"
   ]
  },
  {
   "cell_type": "code",
   "execution_count": 26,
   "metadata": {},
   "outputs": [
    {
     "name": "stdout",
     "output_type": "stream",
     "text": [
      "150 ns ± 3.3 ns per loop (mean ± std. dev. of 7 runs, 10000000 loops each)\n"
     ]
    }
   ],
   "source": [
    "def latitudes(size):\n",
    "    latitudes = []\n",
    "    x = 0\n",
    "    for x in latitudes:\n",
    "        random_lat = random.randint(-90, 90) + random.random()\n",
    "        latitudes.append(random_lat)\n",
    "        x += 1\n",
    "    return latitudes\n",
    "# Call the function with 1500.\n",
    "%timeit latitudes(1500)"
   ]
  }
 ],
 "metadata": {
  "kernelspec": {
   "display_name": "PythonData",
   "language": "python",
   "name": "pythondata"
  },
  "language_info": {
   "codemirror_mode": {
    "name": "ipython",
    "version": 3
   },
   "file_extension": ".py",
   "mimetype": "text/x-python",
   "name": "python",
   "nbconvert_exporter": "python",
   "pygments_lexer": "ipython3",
   "version": "3.8.5"
  }
 },
 "nbformat": 4,
 "nbformat_minor": 4
}
